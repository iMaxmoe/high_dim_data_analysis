{
 "cells": [
  {
   "cell_type": "code",
   "execution_count": 7,
   "metadata": {},
   "outputs": [
    {
     "data": {
      "text/html": [
       "<div>\n",
       "<style scoped>\n",
       "    .dataframe tbody tr th:only-of-type {\n",
       "        vertical-align: middle;\n",
       "    }\n",
       "\n",
       "    .dataframe tbody tr th {\n",
       "        vertical-align: top;\n",
       "    }\n",
       "\n",
       "    .dataframe thead th {\n",
       "        text-align: right;\n",
       "    }\n",
       "</style>\n",
       "<table border=\"1\" class=\"dataframe\">\n",
       "  <thead>\n",
       "    <tr style=\"text-align: right;\">\n",
       "      <th></th>\n",
       "      <th>JpMorgan</th>\n",
       "      <th>Citibank</th>\n",
       "      <th>WellsF</th>\n",
       "      <th>RDShell</th>\n",
       "      <th>ExonMob</th>\n",
       "    </tr>\n",
       "  </thead>\n",
       "  <tbody>\n",
       "    <tr>\n",
       "      <th>0</th>\n",
       "      <td>0.013034</td>\n",
       "      <td>-0.007843</td>\n",
       "      <td>-0.003189</td>\n",
       "      <td>-0.044769</td>\n",
       "      <td>0.005215</td>\n",
       "    </tr>\n",
       "    <tr>\n",
       "      <th>1</th>\n",
       "      <td>0.008486</td>\n",
       "      <td>0.016689</td>\n",
       "      <td>-0.006210</td>\n",
       "      <td>0.011956</td>\n",
       "      <td>0.013489</td>\n",
       "    </tr>\n",
       "    <tr>\n",
       "      <th>2</th>\n",
       "      <td>-0.017915</td>\n",
       "      <td>-0.008639</td>\n",
       "      <td>0.010036</td>\n",
       "      <td>0.000000</td>\n",
       "      <td>-0.006143</td>\n",
       "    </tr>\n",
       "    <tr>\n",
       "      <th>3</th>\n",
       "      <td>0.021559</td>\n",
       "      <td>-0.003486</td>\n",
       "      <td>0.017435</td>\n",
       "      <td>-0.028592</td>\n",
       "      <td>-0.006953</td>\n",
       "    </tr>\n",
       "    <tr>\n",
       "      <th>4</th>\n",
       "      <td>0.010822</td>\n",
       "      <td>0.003717</td>\n",
       "      <td>-0.010134</td>\n",
       "      <td>0.029190</td>\n",
       "      <td>0.040975</td>\n",
       "    </tr>\n",
       "  </tbody>\n",
       "</table>\n",
       "</div>"
      ],
      "text/plain": [
       "   JpMorgan  Citibank    WellsF   RDShell   ExonMob\n",
       "0  0.013034 -0.007843 -0.003189 -0.044769  0.005215\n",
       "1  0.008486  0.016689 -0.006210  0.011956  0.013489\n",
       "2 -0.017915 -0.008639  0.010036  0.000000 -0.006143\n",
       "3  0.021559 -0.003486  0.017435 -0.028592 -0.006953\n",
       "4  0.010822  0.003717 -0.010134  0.029190  0.040975"
      ]
     },
     "execution_count": 7,
     "metadata": {},
     "output_type": "execute_result"
    }
   ],
   "source": [
    "import numpy as np\n",
    "import pandas as pd\n",
    "\n",
    "data = pd.read_csv(\"T8-4.dat\",sep='\\t',names=[\"JpMorgan\",\"Citibank\",\"WellsF\",\"RDShell\",\"ExonMob\"])\n",
    "data.head()"
   ]
  },
  {
   "cell_type": "code",
   "execution_count": 9,
   "metadata": {},
   "outputs": [
    {
     "data": {
      "text/html": [
       "<div>\n",
       "<style scoped>\n",
       "    .dataframe tbody tr th:only-of-type {\n",
       "        vertical-align: middle;\n",
       "    }\n",
       "\n",
       "    .dataframe tbody tr th {\n",
       "        vertical-align: top;\n",
       "    }\n",
       "\n",
       "    .dataframe thead th {\n",
       "        text-align: right;\n",
       "    }\n",
       "</style>\n",
       "<table border=\"1\" class=\"dataframe\">\n",
       "  <thead>\n",
       "    <tr style=\"text-align: right;\">\n",
       "      <th></th>\n",
       "      <th>Factor1</th>\n",
       "      <th>Factor2</th>\n",
       "    </tr>\n",
       "  </thead>\n",
       "  <tbody>\n",
       "    <tr>\n",
       "      <th>JpMorgan</th>\n",
       "      <td>0.120597</td>\n",
       "      <td>0.754267</td>\n",
       "    </tr>\n",
       "    <tr>\n",
       "      <th>Citibank</th>\n",
       "      <td>0.328492</td>\n",
       "      <td>0.785750</td>\n",
       "    </tr>\n",
       "    <tr>\n",
       "      <th>WellsF</th>\n",
       "      <td>0.187602</td>\n",
       "      <td>0.650217</td>\n",
       "    </tr>\n",
       "    <tr>\n",
       "      <th>RDShell</th>\n",
       "      <td>0.997472</td>\n",
       "      <td>-0.007104</td>\n",
       "    </tr>\n",
       "    <tr>\n",
       "      <th>ExonMob</th>\n",
       "      <td>0.685175</td>\n",
       "      <td>0.026317</td>\n",
       "    </tr>\n",
       "  </tbody>\n",
       "</table>\n",
       "</div>"
      ],
      "text/plain": [
       "           Factor1   Factor2\n",
       "JpMorgan  0.120597  0.754267\n",
       "Citibank  0.328492  0.785750\n",
       "WellsF    0.187602  0.650217\n",
       "RDShell   0.997472 -0.007104\n",
       "ExonMob   0.685175  0.026317"
      ]
     },
     "execution_count": 9,
     "metadata": {},
     "output_type": "execute_result"
    }
   ],
   "source": [
    "from factor_analyzer import FactorAnalyzer # pip install factor_analyzer\n",
    "fa = FactorAnalyzer()\n",
    "fa.analyze(data, 2, rotation=None, method='ml')\n",
    "fa.loadings"
   ]
  },
  {
   "cell_type": "code",
   "execution_count": 10,
   "metadata": {},
   "outputs": [
    {
     "data": {
      "text/html": [
       "<div>\n",
       "<style scoped>\n",
       "    .dataframe tbody tr th:only-of-type {\n",
       "        vertical-align: middle;\n",
       "    }\n",
       "\n",
       "    .dataframe tbody tr th {\n",
       "        vertical-align: top;\n",
       "    }\n",
       "\n",
       "    .dataframe thead th {\n",
       "        text-align: right;\n",
       "    }\n",
       "</style>\n",
       "<table border=\"1\" class=\"dataframe\">\n",
       "  <thead>\n",
       "    <tr style=\"text-align: right;\">\n",
       "      <th></th>\n",
       "      <th>Factor1</th>\n",
       "      <th>Factor2</th>\n",
       "    </tr>\n",
       "  </thead>\n",
       "  <tbody>\n",
       "    <tr>\n",
       "      <th>SS Loadings</th>\n",
       "      <td>1.622061</td>\n",
       "      <td>1.609847</td>\n",
       "    </tr>\n",
       "    <tr>\n",
       "      <th>Proportion Var</th>\n",
       "      <td>0.324412</td>\n",
       "      <td>0.321969</td>\n",
       "    </tr>\n",
       "    <tr>\n",
       "      <th>Cumulative Var</th>\n",
       "      <td>0.324412</td>\n",
       "      <td>0.646381</td>\n",
       "    </tr>\n",
       "  </tbody>\n",
       "</table>\n",
       "</div>"
      ],
      "text/plain": [
       "                 Factor1   Factor2\n",
       "SS Loadings     1.622061  1.609847\n",
       "Proportion Var  0.324412  0.321969\n",
       "Cumulative Var  0.324412  0.646381"
      ]
     },
     "execution_count": 10,
     "metadata": {},
     "output_type": "execute_result"
    }
   ],
   "source": [
    "fa.get_factor_variance()"
   ]
  },
  {
   "cell_type": "code",
   "execution_count": 12,
   "metadata": {},
   "outputs": [
    {
     "data": {
      "text/html": [
       "<div>\n",
       "<style scoped>\n",
       "    .dataframe tbody tr th:only-of-type {\n",
       "        vertical-align: middle;\n",
       "    }\n",
       "\n",
       "    .dataframe tbody tr th {\n",
       "        vertical-align: top;\n",
       "    }\n",
       "\n",
       "    .dataframe thead th {\n",
       "        text-align: right;\n",
       "    }\n",
       "</style>\n",
       "<table border=\"1\" class=\"dataframe\">\n",
       "  <thead>\n",
       "    <tr style=\"text-align: right;\">\n",
       "      <th></th>\n",
       "      <th>Factor1</th>\n",
       "      <th>Factor2</th>\n",
       "    </tr>\n",
       "  </thead>\n",
       "  <tbody>\n",
       "    <tr>\n",
       "      <th>JpMorgan</th>\n",
       "      <td>0.029193</td>\n",
       "      <td>0.763289</td>\n",
       "    </tr>\n",
       "    <tr>\n",
       "      <th>Citibank</th>\n",
       "      <td>0.231806</td>\n",
       "      <td>0.819497</td>\n",
       "    </tr>\n",
       "    <tr>\n",
       "      <th>WellsF</th>\n",
       "      <td>0.108201</td>\n",
       "      <td>0.668034</td>\n",
       "    </tr>\n",
       "    <tr>\n",
       "      <th>RDShell</th>\n",
       "      <td>0.991114</td>\n",
       "      <td>0.112672</td>\n",
       "    </tr>\n",
       "    <tr>\n",
       "      <th>ExonMob</th>\n",
       "      <td>0.677062</td>\n",
       "      <td>0.108367</td>\n",
       "    </tr>\n",
       "  </tbody>\n",
       "</table>\n",
       "</div>"
      ],
      "text/plain": [
       "           Factor1   Factor2\n",
       "JpMorgan  0.029193  0.763289\n",
       "Citibank  0.231806  0.819497\n",
       "WellsF    0.108201  0.668034\n",
       "RDShell   0.991114  0.112672\n",
       "ExonMob   0.677062  0.108367"
      ]
     },
     "execution_count": 12,
     "metadata": {},
     "output_type": "execute_result"
    }
   ],
   "source": [
    "fa = FactorAnalyzer()\n",
    "fa.analyze(data, 2, rotation='varimax', method='ml')\n",
    "fa.loadings"
   ]
  },
  {
   "cell_type": "code",
   "execution_count": 13,
   "metadata": {},
   "outputs": [
    {
     "data": {
      "text/html": [
       "<div>\n",
       "<style scoped>\n",
       "    .dataframe tbody tr th:only-of-type {\n",
       "        vertical-align: middle;\n",
       "    }\n",
       "\n",
       "    .dataframe tbody tr th {\n",
       "        vertical-align: top;\n",
       "    }\n",
       "\n",
       "    .dataframe thead th {\n",
       "        text-align: right;\n",
       "    }\n",
       "</style>\n",
       "<table border=\"1\" class=\"dataframe\">\n",
       "  <thead>\n",
       "    <tr style=\"text-align: right;\">\n",
       "      <th></th>\n",
       "      <th>Factor1</th>\n",
       "      <th>Factor2</th>\n",
       "    </tr>\n",
       "  </thead>\n",
       "  <tbody>\n",
       "    <tr>\n",
       "      <th>SS Loadings</th>\n",
       "      <td>1.507014</td>\n",
       "      <td>1.724894</td>\n",
       "    </tr>\n",
       "    <tr>\n",
       "      <th>Proportion Var</th>\n",
       "      <td>0.301403</td>\n",
       "      <td>0.344979</td>\n",
       "    </tr>\n",
       "    <tr>\n",
       "      <th>Cumulative Var</th>\n",
       "      <td>0.301403</td>\n",
       "      <td>0.646381</td>\n",
       "    </tr>\n",
       "  </tbody>\n",
       "</table>\n",
       "</div>"
      ],
      "text/plain": [
       "                 Factor1   Factor2\n",
       "SS Loadings     1.507014  1.724894\n",
       "Proportion Var  0.301403  0.344979\n",
       "Cumulative Var  0.301403  0.646381"
      ]
     },
     "execution_count": 13,
     "metadata": {},
     "output_type": "execute_result"
    }
   ],
   "source": [
    "fa.get_factor_variance()"
   ]
  }
 ],
 "metadata": {
  "kernelspec": {
   "display_name": "Python [conda env:Anaconda]",
   "language": "python",
   "name": "conda-env-Anaconda-py"
  },
  "language_info": {
   "codemirror_mode": {
    "name": "ipython",
    "version": 3
   },
   "file_extension": ".py",
   "mimetype": "text/x-python",
   "name": "python",
   "nbconvert_exporter": "python",
   "pygments_lexer": "ipython3",
   "version": "3.6.6"
  }
 },
 "nbformat": 4,
 "nbformat_minor": 2
}
