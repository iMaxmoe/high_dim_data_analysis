{
 "cells": [
  {
   "cell_type": "code",
   "execution_count": 1,
   "metadata": {},
   "outputs": [
    {
     "data": {
      "text/html": [
       "<div>\n",
       "<style scoped>\n",
       "    .dataframe tbody tr th:only-of-type {\n",
       "        vertical-align: middle;\n",
       "    }\n",
       "\n",
       "    .dataframe tbody tr th {\n",
       "        vertical-align: top;\n",
       "    }\n",
       "\n",
       "    .dataframe thead th {\n",
       "        text-align: right;\n",
       "    }\n",
       "</style>\n",
       "<table border=\"1\" class=\"dataframe\">\n",
       "  <thead>\n",
       "    <tr style=\"text-align: right;\">\n",
       "      <th></th>\n",
       "      <th>Default</th>\n",
       "      <th>checkingstatus</th>\n",
       "      <th>duration</th>\n",
       "      <th>history</th>\n",
       "      <th>amount</th>\n",
       "      <th>savings</th>\n",
       "      <th>employ</th>\n",
       "      <th>installment</th>\n",
       "      <th>others</th>\n",
       "      <th>residence</th>\n",
       "      <th>property</th>\n",
       "      <th>age</th>\n",
       "      <th>cards</th>\n",
       "      <th>job</th>\n",
       "      <th>liable</th>\n",
       "      <th>tele</th>\n",
       "      <th>foreign</th>\n",
       "    </tr>\n",
       "  </thead>\n",
       "  <tbody>\n",
       "    <tr>\n",
       "      <th>0</th>\n",
       "      <td>0</td>\n",
       "      <td>1</td>\n",
       "      <td>6</td>\n",
       "      <td>4</td>\n",
       "      <td>1169</td>\n",
       "      <td>0</td>\n",
       "      <td>5</td>\n",
       "      <td>4</td>\n",
       "      <td>1</td>\n",
       "      <td>4</td>\n",
       "      <td>1</td>\n",
       "      <td>67</td>\n",
       "      <td>2</td>\n",
       "      <td>3</td>\n",
       "      <td>1</td>\n",
       "      <td>1</td>\n",
       "      <td>1</td>\n",
       "    </tr>\n",
       "    <tr>\n",
       "      <th>1</th>\n",
       "      <td>1</td>\n",
       "      <td>2</td>\n",
       "      <td>48</td>\n",
       "      <td>2</td>\n",
       "      <td>5951</td>\n",
       "      <td>1</td>\n",
       "      <td>3</td>\n",
       "      <td>2</td>\n",
       "      <td>1</td>\n",
       "      <td>2</td>\n",
       "      <td>1</td>\n",
       "      <td>22</td>\n",
       "      <td>1</td>\n",
       "      <td>3</td>\n",
       "      <td>1</td>\n",
       "      <td>0</td>\n",
       "      <td>1</td>\n",
       "    </tr>\n",
       "    <tr>\n",
       "      <th>2</th>\n",
       "      <td>0</td>\n",
       "      <td>0</td>\n",
       "      <td>12</td>\n",
       "      <td>4</td>\n",
       "      <td>2096</td>\n",
       "      <td>1</td>\n",
       "      <td>4</td>\n",
       "      <td>2</td>\n",
       "      <td>1</td>\n",
       "      <td>3</td>\n",
       "      <td>1</td>\n",
       "      <td>49</td>\n",
       "      <td>1</td>\n",
       "      <td>2</td>\n",
       "      <td>2</td>\n",
       "      <td>0</td>\n",
       "      <td>1</td>\n",
       "    </tr>\n",
       "    <tr>\n",
       "      <th>3</th>\n",
       "      <td>0</td>\n",
       "      <td>1</td>\n",
       "      <td>42</td>\n",
       "      <td>2</td>\n",
       "      <td>7882</td>\n",
       "      <td>1</td>\n",
       "      <td>4</td>\n",
       "      <td>2</td>\n",
       "      <td>3</td>\n",
       "      <td>4</td>\n",
       "      <td>2</td>\n",
       "      <td>45</td>\n",
       "      <td>1</td>\n",
       "      <td>3</td>\n",
       "      <td>2</td>\n",
       "      <td>0</td>\n",
       "      <td>1</td>\n",
       "    </tr>\n",
       "    <tr>\n",
       "      <th>4</th>\n",
       "      <td>1</td>\n",
       "      <td>1</td>\n",
       "      <td>24</td>\n",
       "      <td>3</td>\n",
       "      <td>4870</td>\n",
       "      <td>1</td>\n",
       "      <td>3</td>\n",
       "      <td>3</td>\n",
       "      <td>1</td>\n",
       "      <td>4</td>\n",
       "      <td>4</td>\n",
       "      <td>53</td>\n",
       "      <td>2</td>\n",
       "      <td>3</td>\n",
       "      <td>2</td>\n",
       "      <td>0</td>\n",
       "      <td>1</td>\n",
       "    </tr>\n",
       "  </tbody>\n",
       "</table>\n",
       "</div>"
      ],
      "text/plain": [
       "   Default  checkingstatus  duration  history  amount  savings  employ  \\\n",
       "0        0               1         6        4    1169        0       5   \n",
       "1        1               2        48        2    5951        1       3   \n",
       "2        0               0        12        4    2096        1       4   \n",
       "3        0               1        42        2    7882        1       4   \n",
       "4        1               1        24        3    4870        1       3   \n",
       "\n",
       "   installment  others  residence  property  age  cards  job  liable  tele  \\\n",
       "0            4       1          4         1   67      2    3       1     1   \n",
       "1            2       1          2         1   22      1    3       1     0   \n",
       "2            2       1          3         1   49      1    2       2     0   \n",
       "3            2       3          4         2   45      1    3       2     0   \n",
       "4            3       1          4         4   53      2    3       2     0   \n",
       "\n",
       "   foreign  \n",
       "0        1  \n",
       "1        1  \n",
       "2        1  \n",
       "3        1  \n",
       "4        1  "
      ]
     },
     "execution_count": 1,
     "metadata": {},
     "output_type": "execute_result"
    }
   ],
   "source": [
    "import pandas as pd\n",
    "import numpy as np\n",
    "\n",
    "data_original = pd.read_csv(\"germancredit_reduced.csv\")\n",
    "data_original.head()"
   ]
  },
  {
   "cell_type": "code",
   "execution_count": 2,
   "metadata": {},
   "outputs": [
    {
     "name": "stdout",
     "output_type": "stream",
     "text": [
      "                 Generalized Linear Model Regression Results                  \n",
      "==============================================================================\n",
      "Dep. Variable:                Default   No. Observations:                 1000\n",
      "Model:                            GLM   Df Residuals:                      983\n",
      "Model Family:                Binomial   Df Model:                           16\n",
      "Link Function:                  logit   Scale:                          1.0000\n",
      "Method:                          IRLS   Log-Likelihood:                -527.50\n",
      "Date:                Thu, 17 Jan 2019   Deviance:                       1055.0\n",
      "Time:                        23:37:49   Pearson chi2:                     995.\n",
      "No. Iterations:                     5   Covariance Type:             nonrobust\n",
      "==================================================================================\n",
      "                     coef    std err          z      P>|z|      [0.025      0.975]\n",
      "----------------------------------------------------------------------------------\n",
      "const             -2.3879      0.836     -2.857      0.004      -4.026      -0.750\n",
      "checkingstatus     0.4195      0.081      5.197      0.000       0.261       0.578\n",
      "duration           0.0227      0.008      2.750      0.006       0.007       0.039\n",
      "history           -0.4656      0.081     -5.741      0.000      -0.624      -0.307\n",
      "amount          7.817e-05   3.83e-05      2.042      0.041    3.14e-06       0.000\n",
      "savings           -0.0467      0.083     -0.566      0.571      -0.208       0.115\n",
      "employ            -0.2204      0.067     -3.283      0.001      -0.352      -0.089\n",
      "installment        0.2708      0.078      3.450      0.001       0.117       0.425\n",
      "others            -0.1465      0.166     -0.880      0.379      -0.473       0.180\n",
      "residence          0.0853      0.072      1.179      0.238      -0.056       0.227\n",
      "property           0.1708      0.081      2.118      0.034       0.013       0.329\n",
      "age               -0.0132      0.007     -1.782      0.075      -0.028       0.001\n",
      "cards              0.2993      0.150      1.996      0.046       0.005       0.593\n",
      "job                0.0128      0.130      0.098      0.922      -0.242       0.268\n",
      "liable             0.1589      0.217      0.733      0.464      -0.266       0.584\n",
      "tele              -0.4172      0.176     -2.374      0.018      -0.762      -0.073\n",
      "foreign            0.9588      0.577      1.661      0.097      -0.172       2.090\n",
      "==================================================================================\n"
     ]
    }
   ],
   "source": [
    "import statsmodels.api as sm\n",
    "data_original = sm.add_constant(data_original)\n",
    "data_exog = data_original.drop(columns=['Default'])\n",
    "bi_model = sm.formula.GLM(data_original.iloc[:,1:2],data_exog,family=sm.families.Binomial())\n",
    "bi_result = bi_model.fit()\n",
    "print(bi_result.summary())"
   ]
  },
  {
   "cell_type": "code",
   "execution_count": 3,
   "metadata": {},
   "outputs": [
    {
     "data": {
      "text/html": [
       "<div>\n",
       "<style scoped>\n",
       "    .dataframe tbody tr th:only-of-type {\n",
       "        vertical-align: middle;\n",
       "    }\n",
       "\n",
       "    .dataframe tbody tr th {\n",
       "        vertical-align: top;\n",
       "    }\n",
       "\n",
       "    .dataframe thead th {\n",
       "        text-align: right;\n",
       "    }\n",
       "</style>\n",
       "<table border=\"1\" class=\"dataframe\">\n",
       "  <thead>\n",
       "    <tr style=\"text-align: right;\">\n",
       "      <th></th>\n",
       "      <th>const</th>\n",
       "      <th>checkingstatus</th>\n",
       "      <th>duration</th>\n",
       "      <th>history</th>\n",
       "      <th>amount</th>\n",
       "      <th>employ</th>\n",
       "      <th>installment</th>\n",
       "      <th>property</th>\n",
       "      <th>cards</th>\n",
       "      <th>tele</th>\n",
       "      <th>Default</th>\n",
       "    </tr>\n",
       "  </thead>\n",
       "  <tbody>\n",
       "    <tr>\n",
       "      <th>0</th>\n",
       "      <td>1.0</td>\n",
       "      <td>1</td>\n",
       "      <td>6</td>\n",
       "      <td>4</td>\n",
       "      <td>1169</td>\n",
       "      <td>5</td>\n",
       "      <td>4</td>\n",
       "      <td>1</td>\n",
       "      <td>2</td>\n",
       "      <td>1</td>\n",
       "      <td>0</td>\n",
       "    </tr>\n",
       "    <tr>\n",
       "      <th>1</th>\n",
       "      <td>1.0</td>\n",
       "      <td>2</td>\n",
       "      <td>48</td>\n",
       "      <td>2</td>\n",
       "      <td>5951</td>\n",
       "      <td>3</td>\n",
       "      <td>2</td>\n",
       "      <td>1</td>\n",
       "      <td>1</td>\n",
       "      <td>0</td>\n",
       "      <td>1</td>\n",
       "    </tr>\n",
       "    <tr>\n",
       "      <th>2</th>\n",
       "      <td>1.0</td>\n",
       "      <td>0</td>\n",
       "      <td>12</td>\n",
       "      <td>4</td>\n",
       "      <td>2096</td>\n",
       "      <td>4</td>\n",
       "      <td>2</td>\n",
       "      <td>1</td>\n",
       "      <td>1</td>\n",
       "      <td>0</td>\n",
       "      <td>0</td>\n",
       "    </tr>\n",
       "    <tr>\n",
       "      <th>3</th>\n",
       "      <td>1.0</td>\n",
       "      <td>1</td>\n",
       "      <td>42</td>\n",
       "      <td>2</td>\n",
       "      <td>7882</td>\n",
       "      <td>4</td>\n",
       "      <td>2</td>\n",
       "      <td>2</td>\n",
       "      <td>1</td>\n",
       "      <td>0</td>\n",
       "      <td>0</td>\n",
       "    </tr>\n",
       "    <tr>\n",
       "      <th>4</th>\n",
       "      <td>1.0</td>\n",
       "      <td>1</td>\n",
       "      <td>24</td>\n",
       "      <td>3</td>\n",
       "      <td>4870</td>\n",
       "      <td>3</td>\n",
       "      <td>3</td>\n",
       "      <td>4</td>\n",
       "      <td>2</td>\n",
       "      <td>0</td>\n",
       "      <td>1</td>\n",
       "    </tr>\n",
       "  </tbody>\n",
       "</table>\n",
       "</div>"
      ],
      "text/plain": [
       "   const  checkingstatus  duration  history  amount  employ  installment  \\\n",
       "0    1.0               1         6        4    1169       5            4   \n",
       "1    1.0               2        48        2    5951       3            2   \n",
       "2    1.0               0        12        4    2096       4            2   \n",
       "3    1.0               1        42        2    7882       4            2   \n",
       "4    1.0               1        24        3    4870       3            3   \n",
       "\n",
       "   property  cards  tele  Default  \n",
       "0         1      2     1        0  \n",
       "1         1      1     0        1  \n",
       "2         1      1     0        0  \n",
       "3         2      1     0        0  \n",
       "4         4      2     0        1  "
      ]
     },
     "execution_count": 3,
     "metadata": {},
     "output_type": "execute_result"
    }
   ],
   "source": [
    "selected = []\n",
    "dict1 = dict(bi_result.pvalues)\n",
    "for key, value in dict1.items():\n",
    "    if value < 0.05:\n",
    "        selected.append(key)\n",
    "selected.append('Default')\n",
    "data1 = data_original.loc[:,selected]\n",
    "data1.head()"
   ]
  },
  {
   "cell_type": "code",
   "execution_count": 4,
   "metadata": {},
   "outputs": [
    {
     "data": {
      "image/png": "[encoded data removed]",
      "text/plain": [
       "<Figure size 720x504 with 1 Axes>"
      ]
     },
     "metadata": {},
     "output_type": "display_data"
    }
   ],
   "source": [
    "bxp = data1.boxplot(figsize=(10,7))"
   ]
  },
  {
   "cell_type": "code",
   "execution_count": 5,
   "metadata": {},
   "outputs": [
    {
     "name": "stdout",
     "output_type": "stream",
     "text": [
      "                 Generalized Linear Model Regression Results                  \n",
      "==============================================================================\n",
      "Dep. Variable:                Default   No. Observations:                 1000\n",
      "Model:                            GLM   Df Residuals:                      990\n",
      "Model Family:                Binomial   Df Model:                            9\n",
      "Link Function:                  logit   Scale:                          1.0000\n",
      "Method:                          IRLS   Log-Likelihood:                -532.11\n",
      "Date:                Thu, 17 Jan 2019   Deviance:                       1064.2\n",
      "Time:                        23:37:50   Pearson chi2:                     995.\n",
      "No. Iterations:                     5   Covariance Type:             nonrobust\n",
      "==================================================================================\n",
      "                     coef    std err          z      P>|z|      [0.025      0.975]\n",
      "----------------------------------------------------------------------------------\n",
      "const             -1.7231      0.414     -4.166      0.000      -2.534      -0.912\n",
      "checkingstatus     0.4063      0.080      5.093      0.000       0.250       0.563\n",
      "duration           0.0253      0.008      3.106      0.002       0.009       0.041\n",
      "history           -0.4726      0.080     -5.880      0.000      -0.630      -0.315\n",
      "amount          7.139e-05   3.77e-05      1.893      0.058   -2.51e-06       0.000\n",
      "employ            -0.2231      0.064     -3.496      0.000      -0.348      -0.098\n",
      "installment        0.2702      0.077      3.497      0.000       0.119       0.422\n",
      "property           0.1932      0.077      2.498      0.012       0.042       0.345\n",
      "cards              0.2989      0.147      2.040      0.041       0.012       0.586\n",
      "tele              -0.4045      0.165     -2.451      0.014      -0.728      -0.081\n",
      "==================================================================================\n"
     ]
    }
   ],
   "source": [
    "bi_model2 = sm.formula.GLM(data1.iloc[:,-1],data1.iloc[:,:-1],family=sm.families.Binomial())\n",
    "bi_result2 = bi_model2.fit()\n",
    "print(bi_result2.summary())"
   ]
  },
  {
   "cell_type": "markdown",
   "metadata": {},
   "source": [
    "### Find the Correlation"
   ]
  },
  {
   "cell_type": "code",
   "execution_count": 6,
   "metadata": {},
   "outputs": [
    {
     "name": "stdout",
     "output_type": "stream",
     "text": [
      "checkingstatus    0.197788\n",
      "duration          0.214927\n",
      "history          -0.228785\n",
      "amount            0.154739\n",
      "employ           -0.116002\n",
      "installment       0.072404\n",
      "property          0.142612\n",
      "cards            -0.045732\n",
      "tele             -0.036466\n",
      "Default           1.000000\n",
      "Name: Default, dtype: float64\n"
     ]
    }
   ],
   "source": [
    "data1 = data1.drop(columns=['const'])\n",
    "print(data1.corr().iloc[-1])"
   ]
  },
  {
   "cell_type": "code",
   "execution_count": 7,
   "metadata": {},
   "outputs": [
    {
     "name": "stdout",
     "output_type": "stream",
     "text": [
      "const                  NaN\n",
      "Default           1.000000\n",
      "checkingstatus    0.197788\n",
      "duration          0.214927\n",
      "history          -0.228785\n",
      "amount            0.154739\n",
      "savings          -0.033871\n",
      "employ           -0.116002\n",
      "installment       0.072404\n",
      "others           -0.025137\n",
      "residence         0.002967\n",
      "property          0.142612\n",
      "age              -0.091127\n",
      "cards            -0.045732\n",
      "job               0.032735\n",
      "liable           -0.003015\n",
      "tele             -0.036466\n",
      "foreign           0.082079\n",
      "Name: Default, dtype: float64\n"
     ]
    }
   ],
   "source": [
    "data_orginal = data_original.drop(columns=['const'])\n",
    "print(data_original.corr().iloc[1])"
   ]
  },
  {
   "cell_type": "markdown",
   "metadata": {},
   "source": [
    "### K-means Clustering"
   ]
  },
  {
   "cell_type": "code",
   "execution_count": 8,
   "metadata": {},
   "outputs": [
    {
     "name": "stdout",
     "output_type": "stream",
     "text": [
      "FP|TN\n",
      "TP|FN\n",
      "[[101 599]\n",
      " [ 72 228]]\n"
     ]
    }
   ],
   "source": [
    "from sklearn.cluster import KMeans\n",
    "km = KMeans(n_clusters=2, random_state=0, n_init=100)\n",
    "cluster = km.fit_predict(data1.iloc[:,:-1])\n",
    "\n",
    "from sklearn.metrics import confusion_matrix\n",
    "print(\"FP|TN\")\n",
    "print(\"TP|FN\")\n",
    "print(confusion_matrix(data1.iloc[:,-1].values, cluster))"
   ]
  },
  {
   "cell_type": "markdown",
   "metadata": {},
   "source": [
    "### Hierarchical Clustering"
   ]
  },
  {
   "cell_type": "code",
   "execution_count": 17,
   "metadata": {},
   "outputs": [
    {
     "name": "stdout",
     "output_type": "stream",
     "text": [
      "FP|TN\n",
      "TP|FN\n",
      "[[ 25 675]\n",
      " [ 31 269]]\n"
     ]
    }
   ],
   "source": [
    "from sklearn.cluster import AgglomerativeClustering\n",
    "hier = AgglomerativeClustering(n_clusters=2, affinity='euclidean', linkage='complete')  \n",
    "cluster = hier.fit_predict(data1.iloc[:,:-1])  \n",
    "\n",
    "print(\"FP|TN\")\n",
    "print(\"TP|FN\")\n",
    "print(confusion_matrix(data1.iloc[:,-1].values, cluster))"
   ]
  }
 ],
 "metadata": {
  "kernelspec": {
   "display_name": "Python [conda env:Anaconda]",
   "language": "python",
   "name": "conda-env-Anaconda-py"
  },
  "language_info": {
   "codemirror_mode": {
    "name": "ipython",
    "version": 3
   },
   "file_extension": ".py",
   "mimetype": "text/x-python",
   "name": "python",
   "nbconvert_exporter": "python",
   "pygments_lexer": "ipython3",
   "version": "3.6.6"
  }
 },
 "nbformat": 4,
 "nbformat_minor": 2
}
